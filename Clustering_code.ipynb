{
  "metadata": {
    "kernelspec": {
      "name": "python",
      "display_name": "Python (Pyodide)",
      "language": "python"
    },
    "language_info": {
      "codemirror_mode": {
        "name": "python",
        "version": 3
      },
      "file_extension": ".py",
      "mimetype": "text/x-python",
      "name": "python",
      "nbconvert_exporter": "python",
      "pygments_lexer": "ipython3",
      "version": "3.8"
    }
  },
  "nbformat_minor": 4,
  "nbformat": 4,
  "cells": [
    {
      "cell_type": "code",
      "source": "import numpy as np\nimport pandas as pd \nfrom matplotlib import pyplot as plt\nimport math as m\nfrom scipy.sparse import csr_matrix\nimport scipy.sparse as ss\nimport sklearn.cluster as sl\nimport networkx as nx\n#this you can just pull out the source code from github\nfrom signet.cluster import Cluster \n#This you can also pull from github\nfrom signet.utils import sqrtinvdiag, invdiag, cut, merge, objscore\nfrom sklearn.metrics.cluster import adjusted_rand_score",
      "metadata": {
        "trusted": true
      },
      "outputs": [],
      "execution_count": null
    },
    {
      "cell_type": "markdown",
      "source": "# Sample Code\n- Info from the paper \"Correlation Matrix Clustering for Statistical Arbitrage Portfolios\", Cartea, Cucuringu, Jin 2023",
      "metadata": {}
    },
    {
      "cell_type": "code",
      "source": "#some clustering algorithms I implemented\n\nI = 1j \nfrom sklearn.cluster import KMeans \n\ndef HermitianClustering(n_clusters, matrix): #Hermitian Clustering\n    matrix2 = matrix * I\n    eigvals, eigvects = np.linalg.eig(matrix2)\n    eigvals = eigvals.real\n    indices = eigvals.argsort()[-n_clusters:]\n    W1 = eigvects[:, indices].real\n    W2 = eigvects[:, indices].imag\n    W = np.hstack([W1, W2]) \n    kmeans = KMeans(n_clusters=n_clusters,random_state=10).fit(W)\n    data = pd.DataFrame(list(zip(matrix.columns, kmeans.labels_)),columns = ['index','cluster'])\n    return data\n\nfrom sklearn.cluster import SpectralClustering #Spectral Clustering\n\ndef clustering(df,num,random=0): #Spectral Clustering\n    df = df.abs() #absolute value of the adjacency matrix\n    G=nx.from_pandas_adjacency(df)\n    sc = SpectralClustering(num, assign_labels='discretize', affinity='precomputed', n_init=200,random_state=random)\n    a = sc.fit(nx.to_pandas_adjacency(G))\n    data = pd.DataFrame(list(zip(df.columns, a.labels_)),columns = ['index','cluster'])\n    return data\ndef split_by_cluster(data, df):#\n    temp = []\n    for i in np.unique(data['cluster']):\n        data_temp = data.loc[data['cluster']==i]\n        x = data_temp['index']\n        temp_matrix = df[x].loc[x]\n        temp.append(temp_matrix)\n    return temp\n\n\ndef SPONGE_Clustering(df, num,method='regular'): # SPONGE\n    df_pos = df[df>=0].fillna(0)\n    df_neg = -df[df<=0].fillna(0)\n    c = Cluster((csr_matrix(df_pos.values), csr_matrix(df_neg.values)))\n    if method == 'regular': \n        predictions = c.SPONGE(k=num, tau_p=1, tau_n=1, eigens=None, mi=None)\n    elif method =='sym':\n        predictions = c.SPONGE_sym(k=num, tau_p=1, tau_n=1, eigens=None, mi=None)\n    result = pd.DataFrame(df.columns)\n    result.columns = ['index']\n    result['cluster'] = predictions\n    return result\n\ndef laplacian_rw(c, k=2, eigens=None, mi=None): # Laplacian random walk clustering\n    if eigens == None:\n        eigens = k\n    if mi == None:\n        mi = c.size\n\n    symmetric = True\n    eye = ss.eye(c.size, format=\"csc\")\n\n    d = invdiag(c.D_p)\n    matrix = d * c.p\n    d = invdiag(c.D_n)\n    matrix = matrix - (d * c.n)\n    matrix = eye - matrix\n    symmetric = False\n\n    if symmetric:\n        (w, v) = ss.linalg.eigsh(matrix, eigens, maxiter=mi, which='SA')\n    else:\n        (w, v) = ss.linalg.eigs(matrix, eigens, maxiter=mi, which='SR')\n\n    v = v / w  # weight eigenvalues by eigenvectors, since smaller eigenvectors are more likely to be informative\n    v = np.atleast_2d(v)\n    v = np.real(v)\n\n    x = sl.KMeans(n_clusters=k).fit(v)\n    \n    return x.labels_\n\ndef Laplacian_Clustering(df, num,method='sym'): #vanilla laplacian clustering\n    df_pos = df[df>=0].fillna(0)\n    df_neg = -df[df<=0].fillna(0)\n    c = Cluster((csr_matrix(df_pos.values), csr_matrix(df_neg.values)))\n    if method == 'sym': \n        predictions = c.spectral_cluster_laplacian(k=num, normalisation='sym_sep', eigens=None, mi=None)\n    elif method =='rw':\n        predictions = laplacian_rw(c, k=num, eigens=None, mi=None)\n    result = pd.DataFrame(df.columns)\n    result.columns = ['index']\n    result['cluster'] = predictions\n    return result\n\ndef Signed_Spectral_Clustering(df, num):\n    df_pos = df[df>=0].fillna(0)\n    df_neg = -df[df<=0].fillna(0)\n    c = Cluster((csr_matrix(df_pos.values), csr_matrix(df_neg.values)))\n    predictions = c.spectral_cluster_adjacency(k = num, normalisation='sym')\n    result = pd.DataFrame(df.columns)\n    result.columns = ['index']\n    result['cluster'] = predictions\n    return result\n\n",
      "metadata": {
        "trusted": true
      },
      "outputs": [],
      "execution_count": null
    },
    {
      "cell_type": "code",
      "source": "#Code for plotting the cluster v.s. sector membership\n\nmerged = cluster_SPONGE.set_index('index').sort_values('cluster')\nindust = {1:'Non-durables',2: 'Durables',3:\"Manufacturing\",4:\"Energy\",5:'Chemicals',6:'Business Equipments',\n         7:'Telecom',8:'Utilities',9:'Shops',10:'Healthcare',11:'Finance',12:'Other'}\nmerged.industry = merged.industry.map(indust)\nsns.set_style(\"ticks\")\nsns.color_palette(\"tab10\")\nplt.figure(figsize=(10, 7))\nplt.scatter(merged.index,merged['industry'],marker='|',c = merged['cluster'],linewidths=1.5,cmap='viridis')\nprev_color = merged['cluster'][0]\nfor i in range(len(merged['cluster'])):\n    # if color has changed, add a black dash\n    if merged['cluster'][i] != prev_color:\n        plt.plot([merged.index[i], merged.index[i-1]], [-0.5, 12], 'k--', linewidth=1)\n        prev_color = merged['cluster'][i]\nplt.gcf().set_dpi(1000)\nplt.title('Comparing Clusters and Sectors of Stocks 2019-2022')\nplt.yticks(fontsize=12,fontname=\"pdf\")\nplt.tick_params(\n    axis='x',          # changes apply to the x-axis\n    which='both',      # both major and minor ticks are affected\n    bottom=False,      # ticks along the bottom edge are off\n    top=False,         # ticks along the top edge are off\n    labelbottom=False)",
      "metadata": {
        "trusted": true
      },
      "outputs": [],
      "execution_count": null
    }
  ]
}